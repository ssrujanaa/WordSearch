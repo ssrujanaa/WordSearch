{
  "nbformat": 4,
  "nbformat_minor": 0,
  "metadata": {
    "colab": {
      "name": "WordSearch.ipynb",
      "provenance": []
    },
    "kernelspec": {
      "name": "python3",
      "display_name": "Python 3"
    },
    "language_info": {
      "name": "python"
    }
  },
  "cells": [
    {
      "cell_type": "code",
      "metadata": {
        "colab": {
          "base_uri": "https://localhost:8080/"
        },
        "id": "oGGeoa_RRYuN",
        "outputId": "749e4201-e422-461d-999e-869c5301b698"
      },
      "source": [
        "import collections\n",
        "\n",
        "class TrieNode():\n",
        "  def __init__(self):\n",
        "      self.child = collections.defaultdict(TrieNode)\n",
        "      self.isWord = False\n",
        "    \n",
        "class Trie():\n",
        "  def __init__(self):\n",
        "    self.root = TrieNode()\n",
        "  \n",
        "  def insert(self, word):\n",
        "    node = self.root\n",
        "    for w in word:\n",
        "        node = node.child[w]\n",
        "    node.isWord = True\n",
        "    \n",
        "def findWords(grid, dictionary):\n",
        "  length = len(grid)\n",
        "  res = []\n",
        "  trie = Trie()\n",
        "  node = trie.root\n",
        "  for w in dictionary:\n",
        "      trie.insert(w)\n",
        "  for i in range(length):\n",
        "      for j in range(length):\n",
        "          dfs(grid, node, i, j, \"\", res, length)\n",
        "  return res\n",
        "\n",
        "def get_index(i, j, length):\n",
        "    directions = [(i+1, j), (i+1, j-1), (i, j-1), (i-1, j-1), (i-1, j), (i-1, j+1), (i, j+1), (i+1, j+1)]\n",
        "    return [(x, y) for x, y in directions if 0 <= x <= length-1 and 0 <= y <= length-1]\n",
        "\n",
        "def dfs(grid, node, i, j, path, res, length):\n",
        "  if node.isWord:\n",
        "    if len(path) > 2:\n",
        "      res.append(path)\n",
        "      node.isWord = False\n",
        "  tmp = grid[i][j]\n",
        "  node = node.child.get(tmp)\n",
        "  if not node:\n",
        "      return \n",
        "  grid[i][j] = \"$\"\n",
        "  for new_x, new_y in get_index(i,j,length):\n",
        "    dfs(grid, node, new_x, new_y, path+tmp, res,length)\n",
        "  grid[i][j] = tmp\n",
        "\n",
        "dictionary = {\"NEAT\", \"MEAT\", \"FOR\", \"FORM\", \"FOAM\", \"SKI\", \"ROOT\", \"LEAF\", \"FEAR\", \"SKIT\", \"IT\"} #naive dictionary for implementation\n",
        "grid = [['R', 'A', 'E', 'L'], ['M', 'O', 'F', 'S'], ['T', 'E', 'O', 'K'], ['N', 'A', 'T', 'I']]     \n",
        "findWords(grid, dictionary)"
      ],
      "execution_count": 20,
      "outputs": [
        {
          "output_type": "execute_result",
          "data": {
            "text/plain": [
              "['ROOT', 'LEAF', 'MEAT', 'FOR', 'FORM', 'FOAM', 'FEAR', 'SKI', 'SKIT', 'NEAT']"
            ]
          },
          "metadata": {
            "tags": []
          },
          "execution_count": 20
        }
      ]
    }
  ]
}